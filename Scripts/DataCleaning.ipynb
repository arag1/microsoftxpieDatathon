{
 "cells": [
  {
   "cell_type": "code",
   "execution_count": 1,
   "metadata": {},
   "outputs": [
    {
     "name": "stderr",
     "output_type": "stream",
     "text": [
      "\n",
      "Bad key \"text.kerning_factor\" on line 4 in\n",
      "C:\\Anaconda3\\lib\\site-packages\\matplotlib\\mpl-data\\stylelib\\_classic_test_patch.mplstyle.\n",
      "You probably need to get an updated matplotlibrc file from\n",
      "http://github.com/matplotlib/matplotlib/blob/master/matplotlibrc.template\n",
      "or from the matplotlib source distribution\n"
     ]
    }
   ],
   "source": [
    "import pandas as pd\n",
    "import numpy as np \n",
    "from text_analytics import * \n",
    "import matplotlib.pyplot as plt "
   ]
  },
  {
   "cell_type": "code",
   "execution_count": 7,
   "metadata": {},
   "outputs": [
    {
     "data": {
      "text/html": [
       "<div>\n",
       "<style scoped>\n",
       "    .dataframe tbody tr th:only-of-type {\n",
       "        vertical-align: middle;\n",
       "    }\n",
       "\n",
       "    .dataframe tbody tr th {\n",
       "        vertical-align: top;\n",
       "    }\n",
       "\n",
       "    .dataframe thead th {\n",
       "        text-align: right;\n",
       "    }\n",
       "</style>\n",
       "<table border=\"1\" class=\"dataframe\">\n",
       "  <thead>\n",
       "    <tr style=\"text-align: right;\">\n",
       "      <th></th>\n",
       "      <th>SupportTicketID</th>\n",
       "      <th>CustomerID</th>\n",
       "      <th>DateCreated</th>\n",
       "      <th>DateCompleted</th>\n",
       "      <th>Escalated</th>\n",
       "      <th>Theme</th>\n",
       "      <th>Theme_Desc</th>\n",
       "      <th>Text</th>\n",
       "      <th>Sentiment</th>\n",
       "      <th>Process Time</th>\n",
       "    </tr>\n",
       "  </thead>\n",
       "  <tbody>\n",
       "    <tr>\n",
       "      <th>0</th>\n",
       "      <td>16582</td>\n",
       "      <td>10007217</td>\n",
       "      <td>2018-06-30</td>\n",
       "      <td>2018-04-07</td>\n",
       "      <td>1</td>\n",
       "      <td>price</td>\n",
       "      <td>cost of the goods to customers.  compare to co...</td>\n",
       "      <td>A screwdriver costs over a hundred dollars? Wh...</td>\n",
       "      <td>negative</td>\n",
       "      <td>-84</td>\n",
       "    </tr>\n",
       "    <tr>\n",
       "      <th>1</th>\n",
       "      <td>13830</td>\n",
       "      <td>10005984</td>\n",
       "      <td>2018-07-15</td>\n",
       "      <td>2018-07-18</td>\n",
       "      <td>0</td>\n",
       "      <td>speed</td>\n",
       "      <td>consider the delivery speed.</td>\n",
       "      <td>Anyway that I can rush overnight ship my order?</td>\n",
       "      <td>neutral</td>\n",
       "      <td>3</td>\n",
       "    </tr>\n",
       "    <tr>\n",
       "      <th>2</th>\n",
       "      <td>53794</td>\n",
       "      <td>10022738</td>\n",
       "      <td>2018-10-14</td>\n",
       "      <td>2018-10-18</td>\n",
       "      <td>0</td>\n",
       "      <td>features</td>\n",
       "      <td>product features, website features, checkout f...</td>\n",
       "      <td>Are the shelves removable from the wine fridge...</td>\n",
       "      <td>neutral</td>\n",
       "      <td>4</td>\n",
       "    </tr>\n",
       "    <tr>\n",
       "      <th>3</th>\n",
       "      <td>95013</td>\n",
       "      <td>10040142</td>\n",
       "      <td>2018-01-11</td>\n",
       "      <td>2018-10-11</td>\n",
       "      <td>0</td>\n",
       "      <td>price</td>\n",
       "      <td>cost of the goods to customers.  compare to co...</td>\n",
       "      <td>Are there any Christmas sales coming up?</td>\n",
       "      <td>neutral</td>\n",
       "      <td>273</td>\n",
       "    </tr>\n",
       "    <tr>\n",
       "      <th>4</th>\n",
       "      <td>32660</td>\n",
       "      <td>10013924</td>\n",
       "      <td>2018-06-06</td>\n",
       "      <td>2018-06-06</td>\n",
       "      <td>1</td>\n",
       "      <td>design</td>\n",
       "      <td>product design, website design</td>\n",
       "      <td>Are there any other colors in the bathroom sin...</td>\n",
       "      <td>neutral</td>\n",
       "      <td>0</td>\n",
       "    </tr>\n",
       "  </tbody>\n",
       "</table>\n",
       "</div>"
      ],
      "text/plain": [
       "   SupportTicketID  CustomerID DateCreated DateCompleted  Escalated     Theme  \\\n",
       "0            16582    10007217  2018-06-30    2018-04-07          1     price   \n",
       "1            13830    10005984  2018-07-15    2018-07-18          0     speed   \n",
       "2            53794    10022738  2018-10-14    2018-10-18          0  features   \n",
       "3            95013    10040142  2018-01-11    2018-10-11          0     price   \n",
       "4            32660    10013924  2018-06-06    2018-06-06          1    design   \n",
       "\n",
       "                                          Theme_Desc  \\\n",
       "0  cost of the goods to customers.  compare to co...   \n",
       "1                       consider the delivery speed.   \n",
       "2  product features, website features, checkout f...   \n",
       "3  cost of the goods to customers.  compare to co...   \n",
       "4                     product design, website design   \n",
       "\n",
       "                                                Text Sentiment  Process Time  \n",
       "0  A screwdriver costs over a hundred dollars? Wh...  negative           -84  \n",
       "1    Anyway that I can rush overnight ship my order?   neutral             3  \n",
       "2  Are the shelves removable from the wine fridge...   neutral             4  \n",
       "3           Are there any Christmas sales coming up?   neutral           273  \n",
       "4  Are there any other colors in the bathroom sin...   neutral             0  "
      ]
     },
     "execution_count": 7,
     "metadata": {},
     "output_type": "execute_result"
    }
   ],
   "source": [
    "data = pd.read_csv('../Data/data_with_sentiment.csv')\n",
    "data.head()"
   ]
  },
  {
   "cell_type": "code",
   "execution_count": 25,
   "metadata": {},
   "outputs": [
    {
     "data": {
      "text/plain": [
       "numpy.int64"
      ]
     },
     "execution_count": 25,
     "metadata": {},
     "output_type": "execute_result"
    }
   ],
   "source": [
    "type(data['Process Time'][0])"
   ]
  },
  {
   "cell_type": "markdown",
   "metadata": {},
   "source": [
    "Data Cleaning Notes: \n",
    "    - Remove the NAs in the text column \n",
    "    - Clean the negative Process Time values by replacing with the mean of positive times in the same escalated and theme "
   ]
  },
  {
   "cell_type": "code",
   "execution_count": 62,
   "metadata": {},
   "outputs": [],
   "source": [
    "cleaned = data.dropna()"
   ]
  },
  {
   "cell_type": "code",
   "execution_count": 63,
   "metadata": {},
   "outputs": [],
   "source": [
    "def impute_process_time(TicketID):\n",
    "    temp = data[data['SupportTicketID'] == TicketID]\n",
    "    escalated = temp['Escalated'].iloc[0]\n",
    "    theme = temp['Theme'].iloc[0]\n",
    "    positive_grouped = data[(data['Process Time'] >= 0) & (data['Theme'] == theme) & (data[\"Escalated\"] == escalated)]\n",
    "    average = np.mean(positive_grouped['Process Time'])\n",
    "    return average"
   ]
  },
  {
   "cell_type": "code",
   "execution_count": 67,
   "metadata": {},
   "outputs": [],
   "source": [
    "cleaned_processTimes = list()\n",
    "for row in cleaned.iterrows():\n",
    "    if row[1]['Process Time'] < 0:\n",
    "        idVal = row[1]['SupportTicketID']\n",
    "        val = impute_process_time(idVal)\n",
    "        cleaned_processTimes.append(val)\n",
    "    else:\n",
    "        cleaned_processTimes.append(row[1]['Process Time'])"
   ]
  },
  {
   "cell_type": "code",
   "execution_count": 69,
   "metadata": {},
   "outputs": [
    {
     "data": {
      "text/html": [
       "<div>\n",
       "<style scoped>\n",
       "    .dataframe tbody tr th:only-of-type {\n",
       "        vertical-align: middle;\n",
       "    }\n",
       "\n",
       "    .dataframe tbody tr th {\n",
       "        vertical-align: top;\n",
       "    }\n",
       "\n",
       "    .dataframe thead th {\n",
       "        text-align: right;\n",
       "    }\n",
       "</style>\n",
       "<table border=\"1\" class=\"dataframe\">\n",
       "  <thead>\n",
       "    <tr style=\"text-align: right;\">\n",
       "      <th></th>\n",
       "      <th>SupportTicketID</th>\n",
       "      <th>CustomerID</th>\n",
       "      <th>DateCreated</th>\n",
       "      <th>DateCompleted</th>\n",
       "      <th>Escalated</th>\n",
       "      <th>Theme</th>\n",
       "      <th>Theme_Desc</th>\n",
       "      <th>Text</th>\n",
       "      <th>Sentiment</th>\n",
       "      <th>Process Time</th>\n",
       "    </tr>\n",
       "  </thead>\n",
       "  <tbody>\n",
       "    <tr>\n",
       "      <th>0</th>\n",
       "      <td>16582</td>\n",
       "      <td>10007217</td>\n",
       "      <td>2018-06-30</td>\n",
       "      <td>2018-04-07</td>\n",
       "      <td>1</td>\n",
       "      <td>price</td>\n",
       "      <td>cost of the goods to customers.  compare to co...</td>\n",
       "      <td>A screwdriver costs over a hundred dollars? Wh...</td>\n",
       "      <td>negative</td>\n",
       "      <td>2.0</td>\n",
       "    </tr>\n",
       "    <tr>\n",
       "      <th>1</th>\n",
       "      <td>13830</td>\n",
       "      <td>10005984</td>\n",
       "      <td>2018-07-15</td>\n",
       "      <td>2018-07-18</td>\n",
       "      <td>0</td>\n",
       "      <td>speed</td>\n",
       "      <td>consider the delivery speed.</td>\n",
       "      <td>Anyway that I can rush overnight ship my order?</td>\n",
       "      <td>neutral</td>\n",
       "      <td>3.0</td>\n",
       "    </tr>\n",
       "    <tr>\n",
       "      <th>2</th>\n",
       "      <td>53794</td>\n",
       "      <td>10022738</td>\n",
       "      <td>2018-10-14</td>\n",
       "      <td>2018-10-18</td>\n",
       "      <td>0</td>\n",
       "      <td>features</td>\n",
       "      <td>product features, website features, checkout f...</td>\n",
       "      <td>Are the shelves removable from the wine fridge...</td>\n",
       "      <td>neutral</td>\n",
       "      <td>4.0</td>\n",
       "    </tr>\n",
       "    <tr>\n",
       "      <th>3</th>\n",
       "      <td>95013</td>\n",
       "      <td>10040142</td>\n",
       "      <td>2018-01-11</td>\n",
       "      <td>2018-10-11</td>\n",
       "      <td>0</td>\n",
       "      <td>price</td>\n",
       "      <td>cost of the goods to customers.  compare to co...</td>\n",
       "      <td>Are there any Christmas sales coming up?</td>\n",
       "      <td>neutral</td>\n",
       "      <td>273.0</td>\n",
       "    </tr>\n",
       "    <tr>\n",
       "      <th>4</th>\n",
       "      <td>32660</td>\n",
       "      <td>10013924</td>\n",
       "      <td>2018-06-06</td>\n",
       "      <td>2018-06-06</td>\n",
       "      <td>1</td>\n",
       "      <td>design</td>\n",
       "      <td>product design, website design</td>\n",
       "      <td>Are there any other colors in the bathroom sin...</td>\n",
       "      <td>neutral</td>\n",
       "      <td>0.0</td>\n",
       "    </tr>\n",
       "  </tbody>\n",
       "</table>\n",
       "</div>"
      ],
      "text/plain": [
       "   SupportTicketID  CustomerID DateCreated DateCompleted  Escalated     Theme  \\\n",
       "0            16582    10007217  2018-06-30    2018-04-07          1     price   \n",
       "1            13830    10005984  2018-07-15    2018-07-18          0     speed   \n",
       "2            53794    10022738  2018-10-14    2018-10-18          0  features   \n",
       "3            95013    10040142  2018-01-11    2018-10-11          0     price   \n",
       "4            32660    10013924  2018-06-06    2018-06-06          1    design   \n",
       "\n",
       "                                          Theme_Desc  \\\n",
       "0  cost of the goods to customers.  compare to co...   \n",
       "1                       consider the delivery speed.   \n",
       "2  product features, website features, checkout f...   \n",
       "3  cost of the goods to customers.  compare to co...   \n",
       "4                     product design, website design   \n",
       "\n",
       "                                                Text Sentiment  Process Time  \n",
       "0  A screwdriver costs over a hundred dollars? Wh...  negative           2.0  \n",
       "1    Anyway that I can rush overnight ship my order?   neutral           3.0  \n",
       "2  Are the shelves removable from the wine fridge...   neutral           4.0  \n",
       "3           Are there any Christmas sales coming up?   neutral         273.0  \n",
       "4  Are there any other colors in the bathroom sin...   neutral           0.0  "
      ]
     },
     "execution_count": 69,
     "metadata": {},
     "output_type": "execute_result"
    }
   ],
   "source": [
    "final = cleaned.copy()\n",
    "final['Process Time'] = cleaned_processTimes\n",
    "final.head()"
   ]
  },
  {
   "cell_type": "code",
   "execution_count": 70,
   "metadata": {},
   "outputs": [],
   "source": [
    "final.to_csv('cleaned.csv', index = False)"
   ]
  },
  {
   "cell_type": "code",
   "execution_count": null,
   "metadata": {},
   "outputs": [],
   "source": []
  }
 ],
 "metadata": {
  "kernelspec": {
   "display_name": "Python 3",
   "language": "python",
   "name": "python3"
  },
  "language_info": {
   "codemirror_mode": {
    "name": "ipython",
    "version": 3
   },
   "file_extension": ".py",
   "mimetype": "text/x-python",
   "name": "python",
   "nbconvert_exporter": "python",
   "pygments_lexer": "ipython3",
   "version": "3.6.10"
  }
 },
 "nbformat": 4,
 "nbformat_minor": 2
}
