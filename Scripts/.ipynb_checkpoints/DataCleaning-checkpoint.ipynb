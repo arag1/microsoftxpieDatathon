{
 "cells": [
  {
   "cell_type": "code",
   "execution_count": null,
   "metadata": {},
   "outputs": [],
   "source": [
    "import pandas as pd\n",
    "import numpy as np \n",
    "from text_analytics import * \n",
    "import matplotlib.pyplot as plt "
   ]
  },
  {
   "cell_type": "code",
   "execution_count": null,
   "metadata": {},
   "outputs": [],
   "source": [
    "data = pd.read_csv('../Data/data_with_sentiment.csv')\n",
    "data.head()"
   ]
  },
  {
   "cell_type": "code",
   "execution_count": null,
   "metadata": {},
   "outputs": [],
   "source": [
    "type(data['Process Time'][0])"
   ]
  },
  {
   "cell_type": "markdown",
   "metadata": {},
   "source": [
    "Data Cleaning Notes: \n",
    "    - Remove the NAs in the text column \n",
    "    - Clean the negative Process Time values by replacing with the mean of positive times in the same escalated and theme "
   ]
  },
  {
   "cell_type": "code",
   "execution_count": null,
   "metadata": {},
   "outputs": [],
   "source": [
    "cleaned = data.dropna()"
   ]
  },
  {
   "cell_type": "code",
   "execution_count": null,
   "metadata": {},
   "outputs": [],
   "source": [
    "def impute_process_time(TicketID):\n",
    "    temp = data[data['SupportTicketID'] == TicketID]\n",
    "    escalated = temp['Escalated'].iloc[0]\n",
    "    theme = temp['Theme'].iloc[0]\n",
    "    positive_grouped = data[(data['Process Time'] >= 0) & (data['Theme'] == theme) & (data[\"Escalated\"] == escalated)]\n",
    "    average = np.mean(positive_grouped['Process Time'])\n",
    "    return average"
   ]
  },
  {
   "cell_type": "code",
   "execution_count": null,
   "metadata": {},
   "outputs": [],
   "source": [
    "cleaned_processTimes = list()\n",
    "for row in cleaned.iterrows():\n",
    "    if row[1]['Process Time'] < 0:\n",
    "        idVal = row[1]['SupportTicketID']\n",
    "        val = impute_process_time(idVal)\n",
    "        cleaned_processTimes.append(val)\n",
    "    else:\n",
    "        cleaned_processTimes.append(row[1]['Process Time'])"
   ]
  },
  {
   "cell_type": "code",
   "execution_count": null,
   "metadata": {},
   "outputs": [],
   "source": [
    "final = cleaned.copy()\n",
    "final['Process Time'] = cleaned_processTimes\n",
    "final.head()"
   ]
  },
  {
   "cell_type": "code",
   "execution_count": null,
   "metadata": {},
   "outputs": [],
   "source": [
    "final.to_csv('cleaned.csv', index = False)"
   ]
  },
  {
   "cell_type": "code",
   "execution_count": null,
   "metadata": {},
   "outputs": [],
   "source": []
  }
 ],
 "metadata": {
  "kernelspec": {
   "display_name": "Python 3",
   "language": "python",
   "name": "python3"
  },
  "language_info": {
   "codemirror_mode": {
    "name": "ipython",
    "version": 3
   },
   "file_extension": ".py",
   "mimetype": "text/x-python",
   "name": "python",
   "nbconvert_exporter": "python",
   "pygments_lexer": "ipython3",
   "version": "3.6.10"
  }
 },
 "nbformat": 4,
 "nbformat_minor": 2
}
